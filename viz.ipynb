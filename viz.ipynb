{
 "cells": [
  {
   "cell_type": "code",
   "execution_count": 5,
   "metadata": {
    "collapsed": true,
    "deletable": true,
    "editable": true
   },
   "outputs": [],
   "source": [
    "import numpy as np\n",
    "import pandas as pd\n",
    "import seaborn as sns"
   ]
  },
  {
   "cell_type": "code",
   "execution_count": 32,
   "metadata": {
    "collapsed": false,
    "deletable": true,
    "editable": true
   },
   "outputs": [],
   "source": [
    "df = pd.read_csv('babynames.csv', index_col=0)"
   ]
  },
  {
   "cell_type": "code",
   "execution_count": 33,
   "metadata": {
    "collapsed": false
   },
   "outputs": [
    {
     "data": {
      "text/html": [
       "<div>\n",
       "<style>\n",
       "    .dataframe thead tr:only-child th {\n",
       "        text-align: right;\n",
       "    }\n",
       "\n",
       "    .dataframe thead th {\n",
       "        text-align: left;\n",
       "    }\n",
       "\n",
       "    .dataframe tbody tr th {\n",
       "        vertical-align: top;\n",
       "    }\n",
       "</style>\n",
       "<table border=\"1\" class=\"dataframe\">\n",
       "  <thead>\n",
       "    <tr style=\"text-align: right;\">\n",
       "      <th></th>\n",
       "      <th>year</th>\n",
       "      <th>sex</th>\n",
       "      <th>name</th>\n",
       "      <th>n</th>\n",
       "      <th>prop</th>\n",
       "    </tr>\n",
       "    <tr>\n",
       "      <th>X1</th>\n",
       "      <th></th>\n",
       "      <th></th>\n",
       "      <th></th>\n",
       "      <th></th>\n",
       "      <th></th>\n",
       "    </tr>\n",
       "  </thead>\n",
       "  <tbody>\n",
       "    <tr>\n",
       "      <th>461925</th>\n",
       "      <td>1950</td>\n",
       "      <td>F</td>\n",
       "      <td>Linda</td>\n",
       "      <td>80439</td>\n",
       "      <td>0.045732</td>\n",
       "    </tr>\n",
       "    <tr>\n",
       "      <th>461926</th>\n",
       "      <td>1950</td>\n",
       "      <td>F</td>\n",
       "      <td>Mary</td>\n",
       "      <td>65485</td>\n",
       "      <td>0.037230</td>\n",
       "    </tr>\n",
       "    <tr>\n",
       "      <th>461927</th>\n",
       "      <td>1950</td>\n",
       "      <td>F</td>\n",
       "      <td>Patricia</td>\n",
       "      <td>47952</td>\n",
       "      <td>0.027262</td>\n",
       "    </tr>\n",
       "    <tr>\n",
       "      <th>461928</th>\n",
       "      <td>1950</td>\n",
       "      <td>F</td>\n",
       "      <td>Barbara</td>\n",
       "      <td>41570</td>\n",
       "      <td>0.023634</td>\n",
       "    </tr>\n",
       "    <tr>\n",
       "      <th>461929</th>\n",
       "      <td>1950</td>\n",
       "      <td>F</td>\n",
       "      <td>Susan</td>\n",
       "      <td>38021</td>\n",
       "      <td>0.021616</td>\n",
       "    </tr>\n",
       "  </tbody>\n",
       "</table>\n",
       "</div>"
      ],
      "text/plain": [
       "        year sex      name      n      prop\n",
       "X1                                         \n",
       "461925  1950   F     Linda  80439  0.045732\n",
       "461926  1950   F      Mary  65485  0.037230\n",
       "461927  1950   F  Patricia  47952  0.027262\n",
       "461928  1950   F   Barbara  41570  0.023634\n",
       "461929  1950   F     Susan  38021  0.021616"
      ]
     },
     "execution_count": 33,
     "metadata": {},
     "output_type": "execute_result"
    }
   ],
   "source": [
    "df.head(5)"
   ]
  },
  {
   "cell_type": "code",
   "execution_count": 34,
   "metadata": {
    "collapsed": false
   },
   "outputs": [],
   "source": [
    "#reset index\n",
    "df.reset_index(inplace = True)\n",
    "#drop column\n",
    "df.drop('X1', axis=1, inplace=True)"
   ]
  },
  {
   "cell_type": "code",
   "execution_count": 46,
   "metadata": {
    "collapsed": false
   },
   "outputs": [
    {
     "data": {
      "text/plain": [
       "year\n",
       "1986       5\n",
       "1988       5\n",
       "1990       6\n",
       "1992       7\n",
       "1996      11\n",
       "1997      13\n",
       "1998      25\n",
       "1999      16\n",
       "2000      34\n",
       "2001      36\n",
       "2002      54\n",
       "2003      71\n",
       "2004     120\n",
       "2005     113\n",
       "2006     159\n",
       "2007     199\n",
       "2008     205\n",
       "2009     236\n",
       "2010     273\n",
       "2011     387\n",
       "2012     759\n",
       "2013    1137\n",
       "2014    1551\n",
       "2015    1634\n",
       "Name: n, dtype: int64"
      ]
     },
     "execution_count": 46,
     "metadata": {},
     "output_type": "execute_result"
    }
   ],
   "source": [
    "arya = df[(df['name'] == 'Arya')& (df['sex'] == 'F')]\n",
    "arya.groupby('year')['n'].sum()\n",
    "#After the book of Game of Trones coming out in 1996, name of Arya is steadily increasing over years. Especially after the on air of the  tv show in 2011."
   ]
  },
  {
   "cell_type": "code",
   "execution_count": 54,
   "metadata": {
    "collapsed": false
   },
   "outputs": [
    {
     "data": {
      "text/plain": [
       "year\n",
       "2012    21\n",
       "2013    68\n",
       "2014    86\n",
       "2015    82\n",
       "Name: n, dtype: int64"
      ]
     },
     "execution_count": 54,
     "metadata": {},
     "output_type": "execute_result"
    }
   ],
   "source": [
    "daenerys = df[(df['name'] == 'Daenerys')& (df['sex'] == 'F')]\n",
    "daenerys.groupby('year')['n'].sum()\n",
    "#Its interesting that someone actually named their children with the name of dragon queen.\n",
    "#But the data is just 4 years. Not that imformative compared with arya."
   ]
  },
  {
   "cell_type": "code",
   "execution_count": 55,
   "metadata": {
    "collapsed": false
   },
   "outputs": [
    {
     "data": {
      "text/plain": [
       "year\n",
       "2013    11\n",
       "2014    12\n",
       "2015    20\n",
       "Name: n, dtype: int64"
      ]
     },
     "execution_count": 55,
     "metadata": {},
     "output_type": "execute_result"
    }
   ],
   "source": [
    "sansa = df[(df['name'] == 'Sansa')& (df['sex'] == 'F')]\n",
    "sansa.groupby('year')['n'].sum()\n",
    "#Similar with dragon queen. And we can see people started like Sansa from the third season."
   ]
  },
  {
   "cell_type": "code",
   "execution_count": null,
   "metadata": {
    "collapsed": true
   },
   "outputs": [],
   "source": [
    "#not good candicates\n",
    "#Although Jon Snow is popular as a character, Jon is too normal as a name.\n",
    "#Both Robb and Rickon is not that popular."
   ]
  }
 ],
 "metadata": {
  "kernelspec": {
   "display_name": "Python 2",
   "language": "python",
   "name": "python2"
  },
  "language_info": {
   "codemirror_mode": {
    "name": "ipython",
    "version": 2
   },
   "file_extension": ".py",
   "mimetype": "text/x-python",
   "name": "python",
   "nbconvert_exporter": "python",
   "pygments_lexer": "ipython2",
   "version": "2.7.13"
  }
 },
 "nbformat": 4,
 "nbformat_minor": 2
}
